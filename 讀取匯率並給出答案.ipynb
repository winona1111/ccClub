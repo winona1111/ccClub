{
  "nbformat": 4,
  "nbformat_minor": 0,
  "metadata": {
    "colab": {
      "name": "讀取匯率並給出答案.ipynb",
      "provenance": [],
      "collapsed_sections": [],
      "include_colab_link": true
    },
    "kernelspec": {
      "name": "python3",
      "display_name": "Python 3"
    },
    "language_info": {
      "name": "python"
    }
  },
  "cells": [
    {
      "cell_type": "markdown",
      "metadata": {
        "id": "view-in-github",
        "colab_type": "text"
      },
      "source": [
        "<a href=\"https://colab.research.google.com/github/winona1111/ccClub/blob/master/%E8%AE%80%E5%8F%96%E5%8C%AF%E7%8E%87%E4%B8%A6%E7%B5%A6%E5%87%BA%E7%AD%94%E6%A1%88.ipynb\" target=\"_parent\"><img src=\"https://colab.research.google.com/assets/colab-badge.svg\" alt=\"Open In Colab\"/></a>"
      ]
    },
    {
      "cell_type": "code",
      "metadata": {
        "id": "-JtfJGEJTAVd",
        "colab": {
          "base_uri": "https://localhost:8080/"
        },
        "outputId": "233ce8cc-1b38-4aef-db2c-9a50bb7dba8d"
      },
      "source": [
        "from google.colab import drive\n",
        "from selenium import webdriver\n",
        "\n",
        "driver = webdriver.Chrome('chromedriver',chrome_options=chrome_options)\n",
        "\n",
        "# drive.mount('/content/drive')"
      ],
      "execution_count": null,
      "outputs": [
        {
          "output_type": "stream",
          "text": [
            "Mounted at /content/drive\n"
          ],
          "name": "stdout"
        }
      ]
    },
    {
      "cell_type": "code",
      "metadata": {
        "colab": {
          "base_uri": "https://localhost:8080/"
        },
        "id": "3r6en_l9SdYz",
        "outputId": "811e3ad3-5c89-4845-f300-dd59a33b0fd1"
      },
      "source": [
        "from google.colab import drive\n",
        "import pandas as pd\n",
        "import datetime\n",
        "time_range = datetime.timedelta(hours = 8) \n",
        "datetime_dt = datetime.datetime.now()+time_range # 獲得當地時間\n",
        "datetime_str = datetime_dt.strftime(\"%Y%m%d\")  # 格式化日期\n",
        "\n",
        "url = 'https://raw.githubusercontent.com/winona1111/ccClub/master/'+f'{datetime_str}_Exchange%20Rate.csv'\n",
        "\n",
        "df = pd.read_csv(url)\n",
        "\n",
        "#買入：是把外幣換台幣，所以尋找最高價\n",
        "#賣出：是用台幣換外幣，所以用最低價\n",
        "\n",
        "user = input('想找某家銀行的匯率的話請輸入 找銀行，想找最優惠的匯率請輸入 找匯率：')\n",
        "dic_way = {'A':'賣出', 'B':'買入', '1':'現鈔', '2':'即期'}\n",
        "\n",
        "if user == '找匯率':\n",
        "    currency = input('要查詢的貨幣：')\n",
        "    method_1 = input('台幣換外幣請輸入 A，外幣換台幣請輸入 B：')\n",
        "    method_2 = str(input('用現金換請輸入 1，用帳戶換請輸入 2：'))\n",
        "    method = dic_way[method_2]+ dic_way[method_1]\n",
        "\n",
        "    if method == '即期買入' or method == '現鈔買入':\n",
        "        ans = df.loc[df['幣別'].str.contains(currency)].sort_values([method], ascending=False)\n",
        "        print(ans)\n",
        "    elif method == '即期賣出' or method == '現鈔賣出':\n",
        "        ans = df.loc[df['幣別'].str.contains(currency)].sort_values([method], ascending=True)\n",
        "        print(ans)\n",
        "     \n",
        "    else:\n",
        "        print('換匯方式輸入錯誤')\n",
        "    \n",
        "\n",
        "        \n",
        "\n",
        "elif user == '找銀行':\n",
        "    bank = input('想找哪家銀行: ')\n",
        "    try:\n",
        "        print(df.loc[df['銀行'].str.contains(bank)].reset_index(drop=True))\n",
        "    except 'Empty DataFrame':\n",
        "        print('我們沒有這家銀行的資料')\n",
        "\n",
        "else:\n",
        "    print('是不是輸錯了？')\n",
        "\n",
        "\n",
        "if user == '找匯率': \n",
        "    ans = ans.reset_index(drop=True)\n",
        "    no1_name, no1_rate = ans.at[1,'銀行'], ans.at[1,method]  #df.loc[0,'c']\n",
        "    no2_name, no2_rate = ans.at[2,'銀行'], ans.at[2,method]\n",
        "    no3_name, no3_rate = ans.at[3,'銀行'], ans.at[3,method]    \n",
        "    print(f'你的換匯方式是: {method}')\n",
        "    print(f'最優惠的是 {no1_name}，匯率是 {no1_rate}')\n",
        "    print(f'第二優惠的是 {no2_name}，匯率是 {no2_rate}')\n",
        "    print(f'第三優惠的是 {no3_name}，匯率是 {no3_rate}')\n",
        "    change = input('你想要計算可以換到多少嗎？(Y/N)')\n",
        "    if change == \"Y\" or \"y\":\n",
        "        choose = input('你要用哪家換呢？(NO1 or NO2 or NO3)')\n",
        "        if choose == 'NO1':\n",
        "            choose = float(no1_rate)\n",
        "        elif choose == 'NO2':    \n",
        "            choose = float(no2_rate)\n",
        "        else:\n",
        "            choose = float(no3_rate)\n",
        "        money = int(input('請輸入金額: '))\n",
        "\n",
        "        if method == 'A':\n",
        "            print(f'可以換到{round(money*choose,4)}元的{currency}')\n",
        "        else:\n",
        "            print(f'可以換到{round(money/choose,4)}元的台幣')"
      ],
      "execution_count": 12,
      "outputs": [
        {
          "output_type": "stream",
          "text": [
            "想找某家銀行的匯率的話請輸入 找銀行，想找最優惠的匯率請輸入 找匯率：找銀行\n",
            "想找哪家銀行: 玉山\n",
            "    Unnamed: 0           幣別     即期買入     即期賣出     現鈔買入     現鈔賣出    銀行\n",
            "0            0     美金 (USD)  27.6500  27.7500  27.4500  27.9500  玉山銀行\n",
            "1            1     日圓 (JPY)   0.2511   0.2551   0.2501   0.2571  玉山銀行\n",
            "2            2     港幣 (HKD)   3.5390   3.5990   3.5090   3.6290  玉山銀行\n",
            "3            3     歐元 (EUR)  33.5400  33.9400  33.2400  34.2400  玉山銀行\n",
            "4            4    人民幣 (CNY)   4.3120   4.3620   4.2470   4.3970  玉山銀行\n",
            "5            5     英鎊 (GBP)  39.0100  39.4100  38.7100  39.7100  玉山銀行\n",
            "6            6   新加坡幣 (SGD)  20.8500  21.0100   0.0000   0.0000  玉山銀行\n",
            "7            7     澳幣 (AUD)  21.3600  21.5600  21.0600  21.8600  玉山銀行\n",
            "8            8     泰幣 (THB)   0.8680   0.9080   0.0000   0.0000  玉山銀行\n",
            "9            9   加拿大幣 (CAD)  22.8300  23.0100  22.5200  23.3200  玉山銀行\n",
            "10          10   瑞士法郎 (CHF)  30.7500  30.9500   0.0000   0.0000  玉山銀行\n",
            "11          11   紐西蘭幣 (NZD)  19.8700  20.1100   0.0000   0.0000  玉山銀行\n",
            "12          12    南非幣 (ZAR)   1.9920   2.0920   0.0000   0.0000  玉山銀行\n",
            "13          13    瑞典幣 (SEK)   3.3230   3.3830   0.0000   0.0000  玉山銀行\n",
            "14          14  墨西哥比索 (MXN)   1.3570   1.4370   0.0000   0.0000  玉山銀行\n"
          ],
          "name": "stdout"
        }
      ]
    },
    {
      "cell_type": "code",
      "metadata": {
        "id": "QZ5W5ht9UcO4"
      },
      "source": [
        ""
      ],
      "execution_count": null,
      "outputs": []
    }
  ]
}